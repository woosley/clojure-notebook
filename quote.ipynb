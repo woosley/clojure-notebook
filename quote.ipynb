{
 "cells": [
  {
   "cell_type": "markdown",
   "metadata": {},
   "source": [
    "## quote\n",
    "\n",
    "### quote\n",
    "简单地quote用来阻止求值。quote可以用单点号`'`简写。"
   ]
  },
  {
   "cell_type": "code",
   "execution_count": 3,
   "metadata": {
    "collapsed": false
   },
   "outputs": [
    {
     "data": {
      "text/plain": [
       "(1 2 3) (1 2 3) hi"
      ]
     },
     "execution_count": 3,
     "metadata": {},
     "output_type": "execute_result"
    }
   ],
   "source": [
    "(quote (1 2 3))\n",
    "'(1 2 3)\n",
    "(quote hi)"
   ]
  },
  {
   "cell_type": "markdown",
   "metadata": {
    "collapsed": true
   },
   "source": [
    "## syntax quote\n",
    "`syntax quote`符号用反斜点来表示，用来保持符号的命名空间。用syntax quote的表达式里面可以使用`unquote`，符号是`~`。"
   ]
  },
  {
   "cell_type": "code",
   "execution_count": 5,
   "metadata": {
    "collapsed": false
   },
   "outputs": [
    {
     "data": {
      "text/plain": [
       "(1 2 3) (user/myname [user/myage])"
      ]
     },
     "execution_count": 5,
     "metadata": {},
     "output_type": "execute_result"
    }
   ],
   "source": [
    "`(1 2 3)\n",
    "`(myname [myage])"
   ]
  },
  {
   "cell_type": "code",
   "execution_count": 7,
   "metadata": {
    "collapsed": false
   },
   "outputs": [
    {
     "data": {
      "text/plain": [
       "(user/this (clojure.core/symbol (clojure.core/str \"i\" \"s\" \"-\" \"cool\"))) (user/this is-cool)"
      ]
     },
     "execution_count": 7,
     "metadata": {},
     "output_type": "execute_result"
    }
   ],
   "source": [
    "`(this (symbol (str \"i\" \"s\" \"-\" \"cool\")))\n",
    "`(this ~(symbol (str \"i\" \"s\" \"-\" \"cool\")))"
   ]
  },
  {
   "cell_type": "markdown",
   "metadata": {},
   "source": [
    "注意到这里`cool`并没有保留namespace，对于被quote然后又unquote的符号，不会添加namespace.\n",
    "\n",
    "特殊语法`~@`用来unquote并将list解构，和apply的用法有点类似。"
   ]
  },
  {
   "cell_type": "code",
   "execution_count": 9,
   "metadata": {
    "collapsed": false
   },
   "outputs": [
    {
     "data": {
      "text/plain": [
       "(0 1 2 3 4 5 6 7 8 9) ((0 1 2 3 4 5 6 7 8 9))"
      ]
     },
     "execution_count": 9,
     "metadata": {},
     "output_type": "execute_result"
    }
   ],
   "source": [
    "`(~@(range 10))\n",
    "`(~(range 10))"
   ]
  },
  {
   "cell_type": "markdown",
   "metadata": {},
   "source": [
    "### 丢掉syntax quote中的namespace\n",
    "如果需要丢掉syntax quote中的namespace，可以使用`~'`语法。\n",
    "\n",
    "同样~`会保留namespace"
   ]
  },
  {
   "cell_type": "code",
   "execution_count": 17,
   "metadata": {
    "collapsed": false
   },
   "outputs": [
    {
     "data": {
      "text/plain": [
       "(user/user user/is user/who) (user/user user/is who) (user/user user/is user/who) [:a 2 user/c] [:a 2 c]"
      ]
     },
     "execution_count": 17,
     "metadata": {},
     "output_type": "execute_result"
    }
   ],
   "source": [
    "`(user is who)\n",
    "`(user is ~'who)\n",
    "`(user is ~`who)\n",
    "`[:a ~(+ 1 1) c]\n",
    "`[:a ~(+ 1 1) ~'c]"
   ]
  },
  {
   "cell_type": "markdown",
   "metadata": {},
   "source": [
    "### 获得 quote symbol"
   ]
  },
  {
   "cell_type": "code",
   "execution_count": 18,
   "metadata": {
    "collapsed": false
   },
   "outputs": [
    {
     "data": {
      "text/plain": [
       "(:a 2 (quote c))"
      ]
     },
     "execution_count": 18,
     "metadata": {},
     "output_type": "execute_result"
    }
   ],
   "source": [
    "`(:a ~(+ 1 1) '~'c)"
   ]
  },
  {
   "cell_type": "code",
   "execution_count": 19,
   "metadata": {
    "collapsed": false
   },
   "outputs": [
    {
     "data": {
      "text/plain": [
       "(:a 1 :b (quote 1 2))"
      ]
     },
     "execution_count": 19,
     "metadata": {},
     "output_type": "execute_result"
    }
   ],
   "source": [
    "`(:a 1 :b '~@(list 1 2))"
   ]
  },
  {
   "cell_type": "code",
   "execution_count": null,
   "metadata": {
    "collapsed": true
   },
   "outputs": [],
   "source": []
  }
 ],
 "metadata": {
  "kernelspec": {
   "display_name": "Clojure",
   "language": "clojure",
   "name": "clojure"
  }
 },
 "nbformat": 4,
 "nbformat_minor": 0
}
