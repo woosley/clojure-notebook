{
 "cells": [
  {
   "cell_type": "markdown",
   "metadata": {},
   "source": [
    "# clojure中的数据结构\n",
    "\n",
    "clojure提供四种基本的集合数据(collection)类型。\n",
    "- **list**: 以小括号包围的数据，比如`(1 2 3 4)`\n",
    "- **vector**: 以中括号包围的数据，比如`[1 2 3 4]`\n",
    "- **map**: 以大括号包围的键值对，比如`{'a' b}`\n",
    "- **set**: 以`#{}`包围的数据，比如`#{1 3 4 45}`\n"
   ]
  },
  {
   "cell_type": "code",
   "execution_count": 2,
   "metadata": {
    "collapsed": false
   },
   "outputs": [
    {
     "name": "stdout",
     "output_type": "stream",
     "text": []
    },
    {
     "data": {
      "text/plain": [
       "clojure.lang.PersistentList clojure.lang.PersistentVector clojure.lang.PersistentArrayMap clojure.lang.PersistentHashSet"
      ]
     },
     "execution_count": 2,
     "metadata": {},
     "output_type": "execute_result"
    }
   ],
   "source": [
    "(type '(1 2 3 4))\n",
    "(type '[1 2 3 4])\n",
    "(type {:1 2 :3 4})\n",
    "(type #{1 2 3 4})"
   ]
  },
  {
   "cell_type": "markdown",
   "metadata": {
    "collapsed": true
   },
   "source": [
    "对于可以操作数据的函数，可以从集合所实现的抽象接口来整理。clojure为collection定义了如下常用的抽象接口\n",
    "- collection\n",
    "- Sequence\n",
    "- Associative\n",
    "- Indexed\n",
    "- Stack\n",
    "- Set\n",
    "- Sorted\n",
    "\n",
    "### collection 集合抽象接口\n",
    "\n",
    "所有的list, map, set, vector都实现了collection抽象接口， collection实现了如下函数.\n",
    "- conj: conjoin，添加元素到集合\n",
    "- seq: 获得顺序视图\n",
    "- count：获得元素个数\n",
    "- empty: 获得和集合一样的空集合\n",
    "- =：判断是否相等\n",
    "\n",
    "\n",
    "conj用来将元素添加到一个集合之中，对于不同的集合类型，其操作效果并不一样。"
   ]
  },
  {
   "cell_type": "code",
   "execution_count": 2,
   "metadata": {
    "collapsed": false
   },
   "outputs": [
    {
     "name": "stdout",
     "output_type": "stream",
     "text": []
    },
    {
     "data": {
      "text/plain": [
       "(7 6 1 2 3 4) [1 2 3 4 6] #{1 4 6 3 2} {:a 1, :b 2, :c 2}"
      ]
     },
     "execution_count": 2,
     "metadata": {},
     "output_type": "execute_result"
    }
   ],
   "source": [
    "(conj '(1 2 3 4) 6 7)     ; insert in front of a list\n",
    "(conj [1 2 3 4] 6)        ; append to vector\n",
    "(conj #{1 2 3 4} 6)       ; set has no order\n",
    "(conj {:a 1 :b 2} {:c 2}) ; insert a key value pair"
   ]
  },
  {
   "cell_type": "markdown",
   "metadata": {
    "collapsed": true
   },
   "source": [
    "conj之所以将元素添加到list的头部，是因为如果添加到尾部，需要遍历整个列表，效率非常低下。\n",
    "由conj衍生出来一个函数叫做`into`，它能将不同类型集合合并到第一个参数的集合中去(返回类型为第一个参数类型)"
   ]
  },
  {
   "cell_type": "code",
   "execution_count": 3,
   "metadata": {
    "collapsed": false
   },
   "outputs": [
    {
     "name": "stdout",
     "output_type": "stream",
     "text": []
    },
    {
     "data": {
      "text/plain": [
       "[1 2 3 4 5 6] (8 7 6 5 1 2 3 4)"
      ]
     },
     "execution_count": 3,
     "metadata": {},
     "output_type": "execute_result"
    }
   ],
   "source": [
    "(into [1 2 3] '(4 5 6))\n",
    "(into '(1 2 3 4) [5 6 7 8])"
   ]
  },
  {
   "cell_type": "markdown",
   "metadata": {},
   "source": [
    "empty函数可以保证创建一个相同类型的数据。有时候我们写一个函数的时候，可能不知道传入参数的类型，此时就可以使用empty来保证输出和输入相同。比如如下 `map-map`函数对map的值进行操作。"
   ]
  },
  {
   "cell_type": "code",
   "execution_count": 4,
   "metadata": {
    "collapsed": false
   },
   "outputs": [
    {
     "name": "stdout",
     "output_type": "stream",
     "text": []
    },
    {
     "data": {
      "text/plain": [
       "#'user/map-map {:z 6, :c 7, :a 1} {:a 1, :c 7, :z 6}"
      ]
     },
     "execution_count": 4,
     "metadata": {},
     "output_type": "execute_result"
    }
   ],
   "source": [
    "(defn map-map\n",
    "  [f m]\n",
    "  (into (empty m)\n",
    "        (for [[k v] m]\n",
    "          [k (f v)])))\n",
    "(map-map inc (hash-map :z 5 :c 6 :a 0))\n",
    "(map-map inc (sorted-map :z 5 :c 6 :a 0))"
   ]
  },
  {
   "cell_type": "markdown",
   "metadata": {},
   "source": [
    "### Sequence 序列 \n",
    "序列抽象接口定义了遍历集合的元素的方法\n",
    "\n",
    "- seq 函数返回传入参数的一个序列\n",
    "- first, rest, next 提供了遍历序列的方法\n",
    "- lazy-seq\n",
    "\n",
    "first, reset的作用很明显。next和rest区别在于 next对于空序列返回nil，而rest返回空序列"
   ]
  },
  {
   "cell_type": "code",
   "execution_count": 7,
   "metadata": {
    "collapsed": false
   },
   "outputs": [
    {
     "name": "stdout",
     "output_type": "stream",
     "text": []
    },
    {
     "data": {
      "text/plain": [
       "nil () nil ()"
      ]
     },
     "execution_count": 7,
     "metadata": {},
     "output_type": "execute_result"
    }
   ],
   "source": [
    "(next ())\n",
    "(rest ())\n",
    "(next nil)\n",
    "(rest nil)"
   ]
  },
  {
   "cell_type": "markdown",
   "metadata": {},
   "source": [
    "需要注意的一点是**序列不是列表**(但列表是序列)。它们的主要区别在于\n",
    "- 计算序列的长度比较耗时\n",
    "- 序列可能是惰性的，只有真正用到它的时候才会计算值。\n",
    "- 序列可能是无限长的，也就是不可数的\n",
    "- 列表保存了长度信息，可以高效的获得\n",
    "\n",
    "一般我们不需要主动创建序列，而是通过其他函数间接来调用。如果需要，有两个方法：`cons`和`list*`。cons将一个参数加入到一个集合的头部并返回一个序列。\n"
   ]
  },
  {
   "cell_type": "code",
   "execution_count": 15,
   "metadata": {
    "collapsed": false
   },
   "outputs": [
    {
     "name": "stdout",
     "output_type": "stream",
     "text": []
    },
    {
     "data": {
      "text/plain": [
       "clojure.lang.LongRange clojure.lang.Cons clojure.lang.Cons"
      ]
     },
     "execution_count": 15,
     "metadata": {},
     "output_type": "execute_result"
    }
   ],
   "source": [
    "(type (range 1 5))\n",
    "(type (cons 0 (range 1 5)))\n",
    "(type (list* 1 2 3 4 (range 1)))"
   ]
  },
  {
   "cell_type": "markdown",
   "metadata": {},
   "source": [
    "`lazy-seq`用来创建一个惰性序列。比如如下函数"
   ]
  },
  {
   "cell_type": "code",
   "execution_count": 16,
   "metadata": {
    "collapsed": false
   },
   "outputs": [
    {
     "name": "stdout",
     "output_type": "stream",
     "text": []
    },
    {
     "data": {
      "text/plain": [
       "#'user/random-limit (14 40 47 41 40 31 40 2 1 33)"
      ]
     },
     "execution_count": 16,
     "metadata": {},
     "output_type": "execute_result"
    }
   ],
   "source": [
    "(defn random-limit \n",
    "  [limit]\n",
    "  (lazy-seq (cons (rand-int limit) (random-limit limit))))\n",
    "(take 10 (random-limit 50))"
   ]
  },
  {
   "cell_type": "code",
   "execution_count": null,
   "metadata": {
    "collapsed": true
   },
   "outputs": [],
   "source": []
  }
 ],
 "metadata": {
  "kernelspec": {
   "display_name": "Clojure",
   "language": "clojure",
   "name": "clojure"
  }
 },
 "nbformat": 4,
 "nbformat_minor": 0
}
