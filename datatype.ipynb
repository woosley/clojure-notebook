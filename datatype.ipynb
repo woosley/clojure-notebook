{
 "cells": [
  {
   "cell_type": "markdown",
   "metadata": {},
   "source": [
    "clojure提供四种基本的数据类型。\n",
    "- **list**: 以小括号包围的数据，比如`(1 2 3 4)`\n",
    "- **vector**: 以中括号包围的数据，比如`[1 2 3 4]`\n",
    "- **map**: 以大括号包围的键值对，比如`{'a' b}`\n",
    "- **set**: 以`#{}`包围的数据，比如`#{1 3 4 45}`\n"
   ]
  },
  {
   "cell_type": "code",
   "execution_count": 11,
   "metadata": {
    "collapsed": false
   },
   "outputs": [
    {
     "name": "stdout",
     "output_type": "stream",
     "text": []
    },
    {
     "data": {
      "text/plain": [
       "clojure.lang.PersistentList clojure.lang.PersistentVector clojure.lang.PersistentArrayMap clojure.lang.PersistentHashSet"
      ]
     },
     "execution_count": 11,
     "metadata": {},
     "output_type": "execute_result"
    }
   ],
   "source": [
    "(type '(1 2 3 4))\n",
    "(type '[1 2 3 4])\n",
    "(type {:1 2 :3 4})\n",
    "(type #{1 2 3 4})"
   ]
  },
  {
   "cell_type": "code",
   "execution_count": null,
   "metadata": {
    "collapsed": true
   },
   "outputs": [],
   "source": []
  }
 ],
 "metadata": {
  "kernelspec": {
   "display_name": "Clojure",
   "language": "clojure",
   "name": "clojure"
  }
 },
 "nbformat": 4,
 "nbformat_minor": 0
}
