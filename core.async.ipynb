{
 "cells": [
  {
   "cell_type": "markdown",
   "metadata": {},
   "source": [
    "# core.async\n",
    "\n",
    "下面代码添加`clojure.core.async`到当前环境中。首次调用可能运行较长时间"
   ]
  },
  {
   "cell_type": "code",
   "execution_count": 2,
   "metadata": {
    "collapsed": false
   },
   "outputs": [
    {
     "data": {
      "text/plain": [
       "nil {[org.clojure/core.async \"0.2.391\"] #{[org.clojure/tools.analyzer.jvm \"0.6.10\"]}, [org.clojure/tools.analyzer.jvm \"0.6.10\"] #{[org.clojure/tools.reader \"1.0.0-beta2\"] [org.clojure/tools.analyzer \"0.6.9\"] [org.clojure/core.memoize \"0.5.9\"] [org.ow2.asm/asm-all \"4.2\"] [org.clojure/clojure \"1.5.1\"]}, [org.clojure/tools.analyzer \"0.6.9\"] nil, [org.clojure/core.memoize \"0.5.9\"] #{[org.clojure/core.cache \"0.6.5\"]}, [org.clojure/core.cache \"0.6.5\"] #{[org.clojure/data.priority-map \"0.0.7\"]}, [org.clojure/data.priority-map \"0.0.7\"] nil, [org.ow2.asm/asm-all \"4.2\"] nil, [org.clojure/tools.reader \"1.0.0-beta2\"] nil, [org.clojure/clojure \"1.5.1\"] nil}"
      ]
     },
     "execution_count": 2,
     "metadata": {},
     "output_type": "execute_result"
    }
   ],
   "source": [
    "(require ['cemerick.pomegranate :refer ['add-dependencies]])\n",
    "(add-dependencies :coordinates [['org.clojure/core.async \"0.2.391\"]])\n",
    "(require ['clojure.core.async :as 'a :refer '[>! <! >!! <!! go chan buffer close! thread alts! alts!! timeout dropping-buffer sliding-buffer]])                                "
   ]
  },
  {
   "cell_type": "markdown",
   "metadata": {},
   "source": [
    "## Chan/Go\n",
    "\n",
    "core.async的中心是`chan`和`go`。`chan`用来收取和发送消息，`go`用来创建一个在其他thread里面跑的`进程`。"
   ]
  },
  {
   "cell_type": "code",
   "execution_count": 12,
   "metadata": {
    "collapsed": false
   },
   "outputs": [
    {
     "name": "stdout",
     "output_type": "stream",
     "text": [
      "hello\n"
     ]
    },
    {
     "data": {
      "text/plain": [
       "#'user/echo-chan #object[clojure.core.async.impl.channels.ManyToManyChannel 0x8954af7 \"clojure.core.async.impl.channels.ManyToManyChannel@8954af7\"] true"
      ]
     },
     "execution_count": 12,
     "metadata": {},
     "output_type": "execute_result"
    }
   ],
   "source": [
    "(def echo-chan (chan))\n",
    "(go (println (<! echo-chan)))\n",
    "(>!! echo-chan \"hello\")"
   ]
  },
  {
   "cell_type": "markdown",
   "metadata": {},
   "source": [
    "以上代码创建一个`chan`，使用`go`block创建一个进程，从chan中读取消息，最后给chan发送消息hello。其中\n",
    "\n",
    "- 函数 `<!`，`<!!`用来读取消息\n",
    "- `>!!` ，`>!`用来发送消息，并且它会等待消息被读取。如果使用如`(>!! (chan) \"my message\")`，由于没有监听在chan上的代码，这段发送消息的代码会无限阻塞\n",
    "\n",
    "当在`go block`中时，使用一个叹号的形式，否则使用两个叹号。\n",
    "\n",
    "chan可以有buffer，代表可缓存消息的条目，比如"
   ]
  },
  {
   "cell_type": "code",
   "execution_count": 13,
   "metadata": {
    "collapsed": false
   },
   "outputs": [
    {
     "data": {},
     "execution_count": 13,
     "metadata": {},
     "output_type": "execute_result"
    }
   ],
   "source": [
    "(def buf (cha 3))\n",
    "(>!! buf \"1\")\n",
    "(>!! buf \"2\")"
   ]
  },
  {
   "cell_type": "markdown",
   "metadata": {},
   "source": [
    "此时即使channel没有被监听，代码也不会阻塞。但是如果传入消息的次数超过的buffer的大小，代码会重新阻塞。buffer 也分为如下几种\n",
    "\n",
    "- 普通的buffer\n",
    "- sliding buffer。先进先出的丢弃消息\n",
    "- dropping buffer。后进先出的丢弃消息"
   ]
  },
  {
   "cell_type": "code",
   "execution_count": 4,
   "metadata": {
    "collapsed": false
   },
   "outputs": [
    {
     "data": {
      "text/plain": [
       "#'user/droping #'user/sliding true true true true \"message 1\" \"message 2\""
      ]
     },
     "execution_count": 4,
     "metadata": {},
     "output_type": "execute_result"
    }
   ],
   "source": [
    "(def droping (chan (dropping-buffer 1)))\n",
    "(def sliding (chan (sliding-buffer 1)))\n",
    "(>!! droping \"message 1\")\n",
    "(>!! sliding \"message 1\")\n",
    "(>!! droping \"message 2\")\n",
    "(>!! sliding \"message 2\")\n",
    "(<!! droping)\n",
    "(<!! sliding)"
   ]
  },
  {
   "cell_type": "markdown",
   "metadata": {},
   "source": [
    "## thread\n",
    "\n",
    "thread创建一个新的线程并运行其代码， 它的返回值是一个channel，在thread的代码结束后代码的返回值传入到channel。"
   ]
  },
  {
   "cell_type": "code",
   "execution_count": 7,
   "metadata": {
    "collapsed": false
   },
   "outputs": [
    {
     "name": "stdout",
     "output_type": "stream",
     "text": [
      "hell again\n",
      "return value is cool\n"
     ]
    },
    {
     "data": {
      "text/plain": [
       "#'user/echo-chan #'user/t true nil"
      ]
     },
     "execution_count": 7,
     "metadata": {},
     "output_type": "execute_result"
    }
   ],
   "source": [
    "(def echo-chan (chan))\n",
    "(def t (thread (do (println (<!! echo-chan)) \"cool\")))\n",
    "(>!! echo-chan \"hell again\")\n",
    "(println (str \"return value is \" (<!! t)))"
   ]
  },
  {
   "cell_type": "code",
   "execution_count": null,
   "metadata": {
    "collapsed": true
   },
   "outputs": [],
   "source": []
  }
 ],
 "metadata": {
  "kernelspec": {
   "display_name": "Clojure",
   "language": "clojure",
   "name": "clojure"
  }
 },
 "nbformat": 4,
 "nbformat_minor": 0
}
