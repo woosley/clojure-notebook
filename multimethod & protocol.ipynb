{
 "cells": [
  {
   "cell_type": "code",
   "execution_count": 14,
   "metadata": {
    "collapsed": false
   },
   "outputs": [
    {
     "name": "stdout",
     "output_type": "stream",
     "text": [
      ":woosley possibly know nothing about anything\n",
      ":woosley possibly is trying to find out why he is so confused\n",
      ":woosley is in a status of mystery at age of 50\n"
     ]
    },
    {
     "data": {
      "text/plain": [
       "nil #object[clojure.lang.MultiFn 0x633d8869 \"clojure.lang.MultiFn@633d8869\"] #object[clojure.lang.MultiFn 0x633d8869 \"clojure.lang.MultiFn@633d8869\"] #object[clojure.lang.MultiFn 0x633d8869 \"clojure.lang.MultiFn@633d8869\"] nil nil nil"
      ]
     },
     "execution_count": 14,
     "metadata": {},
     "output_type": "execute_result"
    }
   ],
   "source": [
    "(defmulti say-my-possible-status \n",
    "    (fn [myself] (:age myself)))\n",
    "(defmethod say-my-possible-status \n",
    "    10 [myself] \n",
    "    (println (str (:name myself) \" possibly know nothing about anything\")))\n",
    "(defmethod say-my-possible-status \n",
    "    30 [myself] \n",
    "    (println (str (:name myself) \" possibly is trying to find out why he is so confused\")))\n",
    "(defmethod say-my-possible-status \n",
    "    :default [myself] \n",
    "    (println (str (:name myself) \" is in a status of mystery at age of \" (:age myself))))\n",
    "(say-my-possible-status {:age 10 :name :woosley})\n",
    "(say-my-possible-status {:age 30 :name :woosley})\n",
    "(say-my-possible-status {:age 50 :name :woosley})\n"
   ]
  },
  {
   "cell_type": "markdown",
   "metadata": {},
   "source": [
    "multimethod可以在不同的namespace之间进行扩展"
   ]
  },
  {
   "cell_type": "code",
   "execution_count": 13,
   "metadata": {
    "collapsed": false
   },
   "outputs": [
    {
     "name": "stdout",
     "output_type": "stream",
     "text": [
      "data is nil\n"
     ]
    },
    {
     "data": {
      "text/plain": [
       "#object[clojure.lang.Namespace 0x2fcd565d \"user\"] nil nil nil #object[clojure.lang.MultiFn 0x29e0fc62 \"clojure.lang.MultiFn@29e0fc62\"] nil"
      ]
     },
     "execution_count": 13,
     "metadata": {},
     "output_type": "execute_result"
    }
   ],
   "source": [
    "*ns*\n",
    "(ns foo)\n",
    "(defmulti test-nil (fn [data] (nil? data)))\n",
    "(ns user)\n",
    "(defmethod foo/test-nil true [data] (println \"data is nil\"))\n",
    "(foo/test-nil nil)"
   ]
  },
  {
   "cell_type": "code",
   "execution_count": null,
   "metadata": {
    "collapsed": true
   },
   "outputs": [],
   "source": []
  }
 ],
 "metadata": {
  "kernelspec": {
   "display_name": "Clojure",
   "language": "clojure",
   "name": "clojure"
  }
 },
 "nbformat": 4,
 "nbformat_minor": 1
}
