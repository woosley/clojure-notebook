{
 "cells": [
  {
   "cell_type": "markdown",
   "metadata": {},
   "source": [
    "# multimethod"
   ]
  },
  {
   "cell_type": "code",
   "execution_count": 14,
   "metadata": {
    "collapsed": false
   },
   "outputs": [
    {
     "name": "stdout",
     "output_type": "stream",
     "text": [
      ":woosley possibly know nothing about anything\n",
      ":woosley possibly is trying to find out why he is so confused\n",
      ":woosley is in a status of mystery at age of 50\n"
     ]
    },
    {
     "data": {
      "text/plain": [
       "nil #object[clojure.lang.MultiFn 0x633d8869 \"clojure.lang.MultiFn@633d8869\"] #object[clojure.lang.MultiFn 0x633d8869 \"clojure.lang.MultiFn@633d8869\"] #object[clojure.lang.MultiFn 0x633d8869 \"clojure.lang.MultiFn@633d8869\"] nil nil nil"
      ]
     },
     "execution_count": 14,
     "metadata": {},
     "output_type": "execute_result"
    }
   ],
   "source": [
    "(defmulti say-my-possible-status \n",
    "    (fn [myself] (:age myself)))\n",
    "(defmethod say-my-possible-status \n",
    "    10 [myself] \n",
    "    (println (str (:name myself) \" possibly know nothing about anything\")))\n",
    "(defmethod say-my-possible-status \n",
    "    30 [myself] \n",
    "    (println (str (:name myself) \" possibly is trying to find out why he is so confused\")))\n",
    "(defmethod say-my-possible-status \n",
    "    :default [myself] \n",
    "    (println (str (:name myself) \" is in a status of mystery at age of \" (:age myself))))\n",
    "(say-my-possible-status {:age 10 :name :woosley})\n",
    "(say-my-possible-status {:age 30 :name :woosley})\n",
    "(say-my-possible-status {:age 50 :name :woosley})\n"
   ]
  },
  {
   "cell_type": "markdown",
   "metadata": {},
   "source": [
    "multimethod可以在不同的namespace之间进行扩展"
   ]
  },
  {
   "cell_type": "code",
   "execution_count": 13,
   "metadata": {
    "collapsed": false
   },
   "outputs": [
    {
     "name": "stdout",
     "output_type": "stream",
     "text": [
      "data is nil\n"
     ]
    },
    {
     "data": {
      "text/plain": [
       "#object[clojure.lang.Namespace 0x2fcd565d \"user\"] nil nil nil #object[clojure.lang.MultiFn 0x29e0fc62 \"clojure.lang.MultiFn@29e0fc62\"] nil"
      ]
     },
     "execution_count": 13,
     "metadata": {},
     "output_type": "execute_result"
    }
   ],
   "source": [
    "*ns*\n",
    "(ns foo)\n",
    "(defmulti test-nil (fn [data] (nil? data)))\n",
    "(ns user)\n",
    "(defmethod foo/test-nil true [data] (println \"data is nil\"))\n",
    "(foo/test-nil nil)"
   ]
  },
  {
   "cell_type": "markdown",
   "metadata": {
    "collapsed": true
   },
   "source": [
    "# protocol\n",
    "\n",
    "protocol定义扩展一种数据类型的协议。它通过**defprotocol**定义扩展类型需要实现的函数，让后通过**extend-type TYPE**来实现具体的扩展细节。"
   ]
  },
  {
   "cell_type": "code",
   "execution_count": 8,
   "metadata": {
    "collapsed": false
   },
   "outputs": [
    {
     "data": {
      "text/plain": [
       "livehard nil \"You see me when I am in a rock status\" \"Start, start, I am gonna explod\" \"Continued, the red eye\""
      ]
     },
     "execution_count": 8,
     "metadata": {},
     "output_type": "execute_result"
    }
   ],
   "source": [
    "(defprotocol livehard\n",
    "    (think [x] \"Think hard and live hard\")\n",
    "    (sing [x] [x y] \"Sing to relieve\"))\n",
    "(extend-type java.lang.String livehard\n",
    "    (think [x] \"You see me when I am in a rock status\")\n",
    "    (sing ([x] \"Start, start, I am gonna explod\")\n",
    "          ([x y] \"Continued, the red eye\" )))\n",
    "          \n",
    "(think \"woosley\")\n",
    "(sing \"song\")\n",
    "(sing \"good\" \"song\")"
   ]
  },
  {
   "cell_type": "markdown",
   "metadata": {},
   "source": [
    "其中注意 \n",
    "- `sing [x] [x y]` 表示sing接受两组不同形式的参数\n",
    "- 第一个参数必须保证类型和扩展的类型匹配，其他参数则没有要求\n",
    "- 可以通过扩展`java.lang.Object`来为所有的类型扩展默认协议。\n",
    "- 协议中的原型定义不能使用**[x & other-args]**形式\n",
    "\n",
    "当我们需要对多种类型进行协议扩展的时候，可以使用**extend-protocol**形式"
   ]
  },
  {
   "cell_type": "code",
   "execution_count": 10,
   "metadata": {
    "collapsed": false
   },
   "outputs": [
    {
     "data": {
      "text/plain": [
       "nil \"You see this is the fundemental stuff\""
      ]
     },
     "execution_count": 10,
     "metadata": {},
     "output_type": "execute_result"
    }
   ],
   "source": [
    "(extend-protocol livehard\n",
    "java.lang.String \n",
    "(think [x] \"You see me when I am in a rock status\")\n",
    "(sing ([x] \"Start, start, I am gonna explod\")\n",
    "      ([x y] \"Continued, the red eye\" ))\n",
    "java.lang.Object\n",
    "(think [x] \"Starting from the basic, I am here\")\n",
    "(sing ([x] \"You see this is the fundemental stuff\")\n",
    "      ([x y] \"show me your big ticket\")))\n",
    "      \n",
    "(sing 19)"
   ]
  },
  {
   "cell_type": "code",
   "execution_count": null,
   "metadata": {
    "collapsed": true
   },
   "outputs": [],
   "source": []
  }
 ],
 "metadata": {
  "kernelspec": {
   "display_name": "Clojure",
   "language": "clojure",
   "name": "clojure"
  }
 },
 "nbformat": 4,
 "nbformat_minor": 1
}
