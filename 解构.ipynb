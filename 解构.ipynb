{
 "cells": [
  {
   "cell_type": "markdown",
   "metadata": {},
   "source": [
    "## 顺序解构"
   ]
  },
  {
   "cell_type": "code",
   "execution_count": 2,
   "metadata": {
    "collapsed": false
   },
   "outputs": [
    {
     "name": "stdout",
     "output_type": "stream",
     "text": [
      "42 foo 99.2\n"
     ]
    },
    {
     "data": {
      "text/plain": [
       "#'user/v nil"
      ]
     },
     "execution_count": 2,
     "metadata": {},
     "output_type": "execute_result"
    }
   ],
   "source": [
    "(def v [42 \"foo\" 99.2 [5 12]])\n",
    "(let [[x y z] v](println x y z))"
   ]
  },
  {
   "cell_type": "markdown",
   "metadata": {},
   "source": [
    "- 复杂数据结构的解构和忽略某些元素"
   ]
  },
  {
   "cell_type": "code",
   "execution_count": 3,
   "metadata": {
    "collapsed": false
   },
   "outputs": [
    {
     "name": "stdout",
     "output_type": "stream",
     "text": [
      "5 12\n"
     ]
    },
    {
     "data": {
      "text/plain": [
       "nil"
      ]
     },
     "execution_count": 3,
     "metadata": {},
     "output_type": "execute_result"
    }
   ],
   "source": [
    "(let [[x _ _ [y z]] v] (println y z))"
   ]
  },
  {
   "cell_type": "markdown",
   "metadata": {
    "collapsed": true
   },
   "source": [
    "- 保持剩下的元素\n",
    "\n",
    "注意这里会把vector转化为序列"
   ]
  },
  {
   "cell_type": "code",
   "execution_count": 4,
   "metadata": {
    "collapsed": false
   },
   "outputs": [
    {
     "name": "stdout",
     "output_type": "stream",
     "text": [
      "(foo 99.2 [5 12])\n"
     ]
    },
    {
     "data": {
      "text/plain": [
       "nil"
      ]
     },
     "execution_count": 4,
     "metadata": {},
     "output_type": "execute_result"
    }
   ],
   "source": [
    "(let [[x & rest] v] (println rest))"
   ]
  },
  {
   "cell_type": "markdown",
   "metadata": {},
   "source": [
    "- 保存原来的值\n",
    "\n",
    "`:as` 可以用来保存被解构的数据结构"
   ]
  },
  {
   "cell_type": "code",
   "execution_count": 6,
   "metadata": {
    "collapsed": false
   },
   "outputs": [
    {
     "name": "stdout",
     "output_type": "stream",
     "text": [
      "[42 foo 99.2 [5 12]]\n"
     ]
    },
    {
     "data": {
      "text/plain": [
       "nil"
      ]
     },
     "execution_count": 6,
     "metadata": {},
     "output_type": "execute_result"
    }
   ],
   "source": [
    "(let [[x y :as original] v] (println original))"
   ]
  },
  {
   "cell_type": "markdown",
   "metadata": {},
   "source": [
    "## map 解构\n",
    "\n",
    "map 通过指定key来获得相应的值。对于vector，还可以使用下标来获得其对应的值。"
   ]
  },
  {
   "cell_type": "code",
   "execution_count": 7,
   "metadata": {
    "collapsed": false
   },
   "outputs": [
    {
     "name": "stdout",
     "output_type": "stream",
     "text": [
      "5 6\n"
     ]
    },
    {
     "data": {
      "text/plain": [
       "#'user/m nil"
      ]
     },
     "execution_count": 7,
     "metadata": {},
     "output_type": "execute_result"
    }
   ],
   "source": [
    "(def m {:a 5 :b 6 :c [7 8 9] :d {:e 10 :f 11} \"foo\" 88 42 false})\n",
    "(let [{a :a b :b} m] (println a b))"
   ]
  },
  {
   "cell_type": "code",
   "execution_count": 8,
   "metadata": {
    "collapsed": false
   },
   "outputs": [
    {
     "name": "stdout",
     "output_type": "stream",
     "text": [
      "1 2\n"
     ]
    },
    {
     "data": {
      "text/plain": [
       "nil"
      ]
     },
     "execution_count": 8,
     "metadata": {},
     "output_type": "execute_result"
    }
   ],
   "source": [
    "(let [{x 3 y 2} [4 3 2 1 0]] (println x y))"
   ]
  },
  {
   "cell_type": "markdown",
   "metadata": {},
   "source": [
    "- map解构也可以用来处理内嵌`map`"
   ]
  },
  {
   "cell_type": "code",
   "execution_count": 9,
   "metadata": {
    "collapsed": false
   },
   "outputs": [
    {
     "name": "stdout",
     "output_type": "stream",
     "text": [
      "10\n"
     ]
    },
    {
     "data": {
      "text/plain": [
       "nil"
      ]
     },
     "execution_count": 9,
     "metadata": {},
     "output_type": "execute_result"
    }
   ],
   "source": [
    "(let [{{value-of-:e :e} :d} m] (println value-of-:e))"
   ]
  },
  {
   "cell_type": "markdown",
   "metadata": {},
   "source": [
    "- map和顺序解构可以结合起来\n"
   ]
  },
  {
   "cell_type": "code",
   "execution_count": 10,
   "metadata": {
    "collapsed": false
   },
   "outputs": [
    {
     "name": "stdout",
     "output_type": "stream",
     "text": [
      "7 9\n"
     ]
    },
    {
     "data": {
      "text/plain": [
       "nil"
      ]
     },
     "execution_count": 10,
     "metadata": {},
     "output_type": "execute_result"
    }
   ],
   "source": [
    "(let [{[x _ y] :c} m] (println x y))"
   ]
  },
  {
   "cell_type": "markdown",
   "metadata": {},
   "source": [
    "- 使用`:as`保存初始结构"
   ]
  },
  {
   "cell_type": "code",
   "execution_count": 11,
   "metadata": {
    "collapsed": false
   },
   "outputs": [
    {
     "name": "stdout",
     "output_type": "stream",
     "text": [
      "{:a 5, :b 6, :c [7 8 9], :d {:e 10, :f 11}, foo 88, 42 false}\n"
     ]
    },
    {
     "data": {
      "text/plain": [
       "nil"
      ]
     },
     "execution_count": 11,
     "metadata": {},
     "output_type": "execute_result"
    }
   ],
   "source": [
    "(let [{c :c :as original} m] (println original))"
   ]
  },
  {
   "cell_type": "markdown",
   "metadata": {},
   "source": [
    "- 使用`:or`来提供默认值"
   ]
  },
  {
   "cell_type": "code",
   "execution_count": 12,
   "metadata": {
    "collapsed": false
   },
   "outputs": [
    {
     "name": "stdout",
     "output_type": "stream",
     "text": [
      "default\n"
     ]
    },
    {
     "data": {
      "text/plain": [
       "nil"
      ]
     },
     "execution_count": 12,
     "metadata": {},
     "output_type": "execute_result"
    }
   ],
   "source": [
    "(let [{value :nothere :or {value \"default\"}} m] (println value))"
   ]
  },
  {
   "cell_type": "markdown",
   "metadata": {},
   "source": [
    "- 使用`:keys, :strs, :syms`来简化解构。\n",
    "\n",
    "一般我们解构map的方法是定义符号以及设置对应的key，如果需要获得的值太多，代码会很冗长，此时可以使用`:keys`来简化代码，`:keys [x y z]`表示从map中找到key为`:x, :y, :z`的值，并将它们赋值给符号`x y z`。\n",
    "\n",
    ":strs, :keys, :syms 分别表示key的类型为`关键字`，`字符串`和`符号`。"
   ]
  },
  {
   "cell_type": "code",
   "execution_count": 16,
   "metadata": {
    "collapsed": false
   },
   "outputs": [
    {
     "name": "stdout",
     "output_type": "stream",
     "text": [
      "Chaos 31 Beijin\n",
      "Chaos 31 Beijin\n",
      "Chaos 31 Beijin\n"
     ]
    },
    {
     "data": {
      "text/plain": [
       "#'user/chas nil #'user/chas nil #'user/chas nil"
      ]
     },
     "execution_count": 16,
     "metadata": {},
     "output_type": "execute_result"
    }
   ],
   "source": [
    "(def chas {:name \"Chaos\" :age 31 :location \"Beijin\"})\n",
    "(let [{:keys [name age location]} chas] (println name age location))\n",
    "\n",
    "(def chas {\"name\" \"Chaos\" \"age\" 31 \"location\" \"Beijin\"})\n",
    "(let [{:strs [name age location]} chas] (println name age location))\n",
    "\n",
    "(def chas {'name \"Chaos\" 'age 31 'location \"Beijin\"})\n",
    "(let [{:syms [name age location]} chas] (println name age location))\n"
   ]
  },
  {
   "cell_type": "markdown",
   "metadata": {},
   "source": [
    "- 对顺序集合的剩余部分进行`map`解构\n",
    "\n",
    "对于顺序集合，如果其剩余部分是偶数个的话，可以对那部分进行`map`结构。\n"
   ]
  },
  {
   "cell_type": "code",
   "execution_count": 2,
   "metadata": {
    "collapsed": false
   },
   "outputs": [
    {
     "name": "stdout",
     "output_type": "stream",
     "text": [
      "woosley very old\n"
     ]
    },
    {
     "data": {
      "text/plain": [
       "#'user/x nil"
      ]
     },
     "execution_count": 2,
     "metadata": {},
     "output_type": "execute_result"
    }
   ],
   "source": [
    "(def x [1 2 :name \"woosley\" :age \"very old\"])\n",
    "(let [[_ _ & {:keys [name age]}] x] (println name age))"
   ]
  },
  {
   "cell_type": "code",
   "execution_count": null,
   "metadata": {
    "collapsed": true
   },
   "outputs": [],
   "source": []
  }
 ],
 "metadata": {
  "kernelspec": {
   "display_name": "Clojure",
   "language": "clojure",
   "name": "clojure"
  }
 },
 "nbformat": 4,
 "nbformat_minor": 0
}
