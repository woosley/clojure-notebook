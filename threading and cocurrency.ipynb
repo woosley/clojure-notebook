{
 "cells": [
  {
   "cell_type": "markdown",
   "metadata": {},
   "source": [
    "# 多线程和并发"
   ]
  },
  {
   "cell_type": "markdown",
   "metadata": {},
   "source": [
    "## 执行代码的时间控制\n",
    "clojure提供了一些函数可以控制代码的执行。\n",
    "\n",
    "**delay**\n",
    "\n",
    "delay可以让代码延迟执行，被delay包裹的代码只有在`deref`或者被 **`@`** 的时候才能执行。这看起来和执行一个函数没什么两样，但是delay的一个好处就是它能够**缓存代码的执行结果**，不需要重复进行计算，比如如下代码。值得注意的是，如果代码里面有副作用，比如println，在重复执行的时候，这个副作用也会被忽略。\n",
    "\n",
    "可以通过`realized?`检查代码是否被解引用"
   ]
  },
  {
   "cell_type": "code",
   "execution_count": 11,
   "metadata": {
    "collapsed": false
   },
   "outputs": [
    {
     "name": "stdout",
     "output_type": "stream",
     "text": [
      "Running\n"
     ]
    },
    {
     "data": {
      "text/plain": [
       "#'user/d :done! :done! :done! true"
      ]
     },
     "execution_count": 11,
     "metadata": {},
     "output_type": "execute_result"
    }
   ],
   "source": [
    "(def d (delay (println \"Running\") :done!))\n",
    "(deref d)\n",
    "(deref d)\n",
    "@d\n",
    "(realized? d)"
   ]
  },
  {
   "cell_type": "markdown",
   "metadata": {
    "collapsed": false
   },
   "source": [
    "**future**\n",
    "\n",
    "future是clojure中启动一个线程的函数。对于future的调用会立即返回，执行结果保存在future当中，可以通过解引用来获得其值，如果值还没有获得，那么会阻塞直到获得结果。future也会保存代码的返回值。和delay不同的是它可以指定一个超时值。注意设定超时只能使用`deref`的方式，不能使用`@`。"
   ]
  },
  {
   "cell_type": "code",
   "execution_count": 16,
   "metadata": {
    "collapsed": false
   },
   "outputs": [
    {
     "data": {
      "text/plain": [
       ":impatient!"
      ]
     },
     "execution_count": 16,
     "metadata": {},
     "output_type": "execute_result"
    }
   ],
   "source": [
    "(deref (future (Thread/sleep 5000) :done!) 1000 :impatient!)"
   ]
  },
  {
   "cell_type": "markdown",
   "metadata": {
    "collapsed": true
   },
   "source": [
    "**promise**\n",
    "\n",
    "promise和之前的future/delay有些不同，它是定义的一个对象，你可以通过`deliver`向它传递值。"
   ]
  },
  {
   "cell_type": "code",
   "execution_count": 1,
   "metadata": {
    "collapsed": false
   },
   "outputs": [
    {
     "data": {
      "text/plain": [
       "#'user/p false #object[clojure.core$promise$reify__7005 0xa88a8b3 {:status :ready, :val 42}] true 42"
      ]
     },
     "execution_count": 1,
     "metadata": {},
     "output_type": "execute_result"
    }
   ],
   "source": [
    "(def p (promise))\n",
    "(realized? p)\n",
    "(deliver p 42)\n",
    "(realized? p)\n",
    "@p"
   ]
  },
  {
   "cell_type": "code",
   "execution_count": null,
   "metadata": {
    "collapsed": true
   },
   "outputs": [],
   "source": []
  }
 ],
 "metadata": {
  "kernelspec": {
   "display_name": "Clojure",
   "language": "clojure",
   "name": "clojure"
  }
 },
 "nbformat": 4,
 "nbformat_minor": 0
}
