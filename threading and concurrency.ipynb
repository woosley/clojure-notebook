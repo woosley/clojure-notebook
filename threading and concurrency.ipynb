{
 "cells": [
  {
   "cell_type": "markdown",
   "metadata": {},
   "source": [
    "# 多线程和并发"
   ]
  },
  {
   "cell_type": "markdown",
   "metadata": {},
   "source": [
    "## 执行代码的时间控制\n",
    "clojure提供了一些函数可以控制代码的执行。\n",
    "\n",
    "**delay**\n",
    "\n",
    "delay可以让代码延迟执行，被delay包裹的代码只有在`deref`或者被 **`@`** 的时候才能执行。这看起来和执行一个函数没什么两样，但是delay的一个好处就是它能够**缓存代码的执行结果**，不需要重复进行计算，比如如下代码。值得注意的是，如果代码里面有副作用，比如println，在重复执行的时候，这个副作用也会被忽略。\n",
    "\n",
    "可以通过`realized?`检查代码是否被解引用"
   ]
  },
  {
   "cell_type": "code",
   "execution_count": 11,
   "metadata": {
    "collapsed": false
   },
   "outputs": [
    {
     "name": "stdout",
     "output_type": "stream",
     "text": [
      "Running\n"
     ]
    },
    {
     "data": {
      "text/plain": [
       "#'user/d :done! :done! :done! true"
      ]
     },
     "execution_count": 11,
     "metadata": {},
     "output_type": "execute_result"
    }
   ],
   "source": [
    "(def d (delay (println \"Running\") :done!))\n",
    "(deref d)\n",
    "(deref d)\n",
    "@d\n",
    "(realized? d)"
   ]
  },
  {
   "cell_type": "markdown",
   "metadata": {
    "collapsed": false
   },
   "source": [
    "**future**\n",
    "\n",
    "future是clojure中启动一个线程的函数。对于future的调用会立即返回，执行结果保存在future当中，可以通过解引用来获得其值，如果值还没有获得，那么会阻塞直到获得结果。future也会保存代码的返回值。和delay不同的是它可以指定一个超时值。注意设定超时只能使用`deref`的方式，不能使用`@`。"
   ]
  },
  {
   "cell_type": "code",
   "execution_count": 16,
   "metadata": {
    "collapsed": false
   },
   "outputs": [
    {
     "data": {
      "text/plain": [
       ":impatient!"
      ]
     },
     "execution_count": 16,
     "metadata": {},
     "output_type": "execute_result"
    }
   ],
   "source": [
    "(deref (future (Thread/sleep 5000) :done!) 1000 :impatient!)"
   ]
  },
  {
   "cell_type": "markdown",
   "metadata": {
    "collapsed": true
   },
   "source": [
    "**promise**\n",
    "\n",
    "promise和之前的future/delay有些不同，它是定义的一个对象，你可以通过`deliver`向它传递值。"
   ]
  },
  {
   "cell_type": "code",
   "execution_count": 1,
   "metadata": {
    "collapsed": false
   },
   "outputs": [
    {
     "data": {
      "text/plain": [
       "#'user/p false #object[clojure.core$promise$reify__7005 0xa88a8b3 {:status :ready, :val 42}] true 42"
      ]
     },
     "execution_count": 1,
     "metadata": {},
     "output_type": "execute_result"
    }
   ],
   "source": [
    "(def p (promise))\n",
    "(realized? p)\n",
    "(deliver p 42)\n",
    "(realized? p)\n",
    "@p"
   ]
  },
  {
   "cell_type": "markdown",
   "metadata": {},
   "source": [
    "## 并发支持的特殊数据类型\n",
    "\n",
    "对于其他编程语言，比如`python`,`ruby`，对一个对象的操作不是线程安全的。比如在python中，假如有一个类`Person`，实例化了一个对象`a`，当他从未婚状态转入到已婚状态的时候：\n",
    "\n",
    "```\n",
    "a.marry_status = \"married\"\n",
    "a.spouse = \"some one\"\n",
    "```\n",
    "\n",
    "如果在更改status之后，设置spouse之前有另外一个线程读取这个对象，那么它处于一个不一致的状态。\n",
    "\n",
    "在clojure中，由于`symbol`是不可以被更改的，clojure使用了一些其他特殊数据类型来进行线程安全的操作。\n",
    "\n",
    "### atom\n",
    "\n",
    "我们可以定义一个atom数据，然后使用 `@aotm-var`来获得这个数据的一个快照。这样的话我们并不会更改原来的的数据，而是直接产生了一个新的数据状态。对atom的更改使用`swap!`函数."
   ]
  },
  {
   "cell_type": "code",
   "execution_count": 9,
   "metadata": {
    "collapsed": false
   },
   "outputs": [
    {
     "name": "stdout",
     "output_type": "stream",
     "text": [
      "old-woosley: {:name \"woosley\", :gender \"male\", :age 30}\n",
      "new-woosley: {:name \"woosley\", :gender \"male\", :age 32}\n"
     ]
    },
    {
     "data": {
      "text/plain": [
       "#'user/my-atom nil"
      ]
     },
     "execution_count": 9,
     "metadata": {},
     "output_type": "execute_result"
    }
   ],
   "source": [
    "(def my-atom (atom {:name \"woosley\" :gender \"male\" :age 30}))\n",
    "(let [old-woosley @my-atom]\n",
    "    (swap! my-atom update-in [:age] inc)\n",
    "    (swap! my-atom update-in [:age] inc)\n",
    "\n",
    "    (do (println (str \"old-woosley: \" old-woosley))\n",
    "        (println (str \"new-woosley: \" @my-atom))))"
   ]
  },
  {
   "cell_type": "markdown",
   "metadata": {},
   "source": [
    "`swap`使用一种`compare-and-set`的方式保证这个操作是线程安全的。\n",
    "\n",
    "- 首先读取atom的数据a0\n",
    "- 应用swap!的函数，获得结果b0\n",
    "- 再次读取atom的数据，a1，\n",
    "- 如果此时a0 = a1，返回b0\n",
    "- 如果此时a0 != a1，使用a1的值重新应用`swap!`的函数。\n",
    "\n",
    "这个流程保证了不同线程对同一个atom的修改是安全的。\n",
    "\n",
    "`reset!`函数能够彻底重置一个atom"
   ]
  },
  {
   "cell_type": "code",
   "execution_count": 10,
   "metadata": {
    "collapsed": false
   },
   "outputs": [
    {
     "data": {
      "text/plain": [
       "{:name \"cloned woosley\", :gender \"male\", :age \"unknown\"}"
      ]
     },
     "execution_count": 10,
     "metadata": {},
     "output_type": "execute_result"
    }
   ],
   "source": [
    "(reset! my-atom {:name \"cloned woosley\" :gender \"male\" :age \"unknown\"})"
   ]
  },
  {
   "cell_type": "markdown",
   "metadata": {},
   "source": [
    "### ref\n",
    "atom一般用在修改单个数据对象的时候，ref使用在需要同时修改多个数据对象的情况下，它使用`dosync`函数保证对一个transaction里面所有ref的`alter`操作都具有像数据库里面一样的ACI性质。`dosync`的内部修改在事务外部都是不可见的。"
   ]
  },
  {
   "cell_type": "code",
   "execution_count": 5,
   "metadata": {
    "collapsed": false
   },
   "outputs": [
    {
     "name": "stdout",
     "output_type": "stream",
     "text": [
      "9 1\n",
      "Outside counter 0\n"
     ]
    },
    {
     "data": {
      "text/plain": [
       "#'user/my-cookie #'user/his-cookie #'user/give-my-cookie-to-him nil #'user/counter #object[clojure.core$future_call$reify__6962 0x46b16feb {:status :pending, :val nil}] nil nil"
      ]
     },
     "execution_count": 5,
     "metadata": {},
     "output_type": "execute_result"
    }
   ],
   "source": [
    "(def my-cookie (ref 10))\n",
    "(def his-cookie (ref 0))\n",
    "(defn give-my-cookie-to-him \n",
    "[] \n",
    "(dosync \n",
    "  (alter my-cookie - 1)\n",
    "  (alter his-cookie + 1)\n",
    "  (println (str @my-cookie \" \" @his-cookie))))\n",
    "(give-my-cookie-to-him)\n",
    "\n",
    "(def counter (ref 0))\n",
    "(future (dosync\n",
    "  (alter counter inc)\n",
    "  (println (str \"Inside counter \" @counter \"\\n\")\n",
    "  (Thread/sleep 250)\n",
    "  (alter counter inc)\n",
    "  (println (str \"counter \" @counter)))))\n",
    "  \n",
    "(Thread/sleep 200)\n",
    "(println (str \"Outside counter \" @counter)) ; can not see any dosync changes before dosync is committed"
   ]
  },
  {
   "cell_type": "markdown",
   "metadata": {
    "collapsed": true
   },
   "source": [
    "和atom一样，在一个transaction/dosync结束的时候，如果发现里面的ref数据在外部被修改，会使用新的值重新运行一遍整个transaction。如果确认数据在外部是安全的，可以使用`commute`函数，这时候clojure不会关注ref是否被修改，放弃重试，直接commit。在这种情况下必须要保证没有外部修改。以下是一个使用`commute`不安全的例子。"
   ]
  },
  {
   "cell_type": "code",
   "execution_count": 11,
   "metadata": {
    "collapsed": false
   },
   "outputs": [
    {
     "data": {
      "text/plain": [
       "#'user/receiver-a #'user/receiver-b #'user/giver #object[clojure.core$future_call$reify__6962 0x28cfd608 {:status :pending, :val nil}]"
      ]
     },
     "execution_count": 11,
     "metadata": {},
     "output_type": "execute_result"
    }
   ],
   "source": [
    "(def receiver-a (ref #{}))\n",
    "(def receiver-b (ref #{}))\n",
    "(def giver (ref #{1}))\n",
    "(do (future (dosync (let [gift (first @giver)]\n",
    "                      (Thread/sleep 10)\n",
    "                      (commute receiver-a conj gift) ;receiver A gets a gift\n",
    "                      (commute giver disj gift))))\n",
    "    (future (dosync (let [gift (first @giver)]\n",
    "                      (Thread/sleep 50)\n",
    "                      (commute receiver-b conj gift) ;receiver B gets a gift\n",
    "                      (commute giver disj gift)))))"
   ]
  },
  {
   "cell_type": "code",
   "execution_count": 12,
   "metadata": {
    "collapsed": false
   },
   "outputs": [
    {
     "data": {
      "text/plain": [
       "#{1} #{1} #{}"
      ]
     },
     "execution_count": 12,
     "metadata": {},
     "output_type": "execute_result"
    }
   ],
   "source": [
    "@receiver-b\n",
    "@receiver-a\n",
    "@giver"
   ]
  },
  {
   "cell_type": "markdown",
   "metadata": {},
   "source": [
    "显然一份礼物不同同时给两个人，这里由于使用了commute，导致了这个错误。\n",
    "\n",
    "### var\n",
    "通过`def`定义的符号都是`var`。\n",
    "#### 动态var\n",
    "- 我们通过`:dynamic`定义动态var，\n",
    "- 一般此时使用如`*var-name*`之类的命名方式。\n",
    "- 我们通过binding来改变var的值\n",
    "- 通过binding改变的值只能存在于binding作用域中。"
   ]
  },
  {
   "cell_type": "code",
   "execution_count": 16,
   "metadata": {
    "collapsed": false
   },
   "outputs": [
    {
     "data": {
      "text/plain": [
       "#'user/*address* \"woosley@gmail.com\" \"dobby@elf.org\""
      ]
     },
     "execution_count": 16,
     "metadata": {},
     "output_type": "execute_result"
    }
   ],
   "source": [
    "(def ^:dynamic *address* \"dobby@elf.org\")\n",
    "(binding [*address* \"woosley@gmail.com\"]\n",
    "    *address*)\n",
    "*address*"
   ]
  },
  {
   "cell_type": "markdown",
   "metadata": {},
   "source": [
    "dynamic var一般用来在函数外部更改一些使用在函数里面的全局变量，clojure本身用到了许多dynamic var，比如`*out*`，下面是一个通过`bind *out*`改变println的输出的例子。"
   ]
  },
  {
   "cell_type": "code",
   "execution_count": 19,
   "metadata": {
    "collapsed": false
   },
   "outputs": [
    {
     "data": {
      "text/plain": [
       "#object[java.io.PrintWriter 0x5552071 \"java.io.PrintWriter@5552071\"] nil \"write to file, not stdout\\n\""
      ]
     },
     "execution_count": 19,
     "metadata": {},
     "output_type": "execute_result"
    }
   ],
   "source": [
    "*out*\n",
    "(binding [*out* (clojure.java.io/writer, \"aaa.txt\")]\n",
    "    (println \"write to file, not stdout\"))\n",
    "(slurp \"aaa.txt\")"
   ]
  },
  {
   "cell_type": "markdown",
   "metadata": {},
   "source": [
    "`set!`函数可以更改一个var的值，但是注意它不能修改root binding。"
   ]
  },
  {
   "cell_type": "code",
   "execution_count": 22,
   "metadata": {
    "collapsed": false
   },
   "outputs": [
    {
     "data": {},
     "execution_count": 22,
     "metadata": {},
     "output_type": "execute_result"
    }
   ],
   "source": [
    "(def ^:dynamic aaa 1)\n",
    "(binding [*aaa* nil]\n",
    "(set! *aaa* 2)\n",
    "(println *aaa*))"
   ]
  },
  {
   "cell_type": "code",
   "execution_count": null,
   "metadata": {
    "collapsed": true
   },
   "outputs": [],
   "source": []
  }
 ],
 "metadata": {
  "kernelspec": {
   "display_name": "Clojure",
   "language": "clojure",
   "name": "clojure"
  }
 },
 "nbformat": 4,
 "nbformat_minor": 0
}
